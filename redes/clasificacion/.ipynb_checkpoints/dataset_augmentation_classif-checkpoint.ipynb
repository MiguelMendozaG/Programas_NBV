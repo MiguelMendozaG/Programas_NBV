{
 "cells": [
  {
   "cell_type": "code",
   "execution_count": 1,
   "metadata": {},
   "outputs": [
    {
     "name": "stderr",
     "output_type": "stream",
     "text": [
      "C:\\Users\\secie\\Anaconda3\\envs\\tensorflow_gpu\\lib\\site-packages\\h5py\\__init__.py:36: FutureWarning: Conversion of the second argument of issubdtype from `float` to `np.floating` is deprecated. In future, it will be treated as `np.float64 == np.dtype(float).type`.\n",
      "  from ._conv import register_converters as _register_converters\n"
     ]
    }
   ],
   "source": [
    "import numpy as np\n",
    "import tensorflow as tf \n",
    "import matplotlib.pyplot as plt"
   ]
  },
  {
   "cell_type": "code",
   "execution_count": 29,
   "metadata": {},
   "outputs": [],
   "source": [
    "path_input_vol = \"E:/dataset_tesis/np_dataset_vol.npy\"\n",
    "path_input_lbl = \"E:/dataset_tesis/np_dataset_lbl.npy\""
   ]
  },
  {
   "cell_type": "code",
   "execution_count": 30,
   "metadata": {},
   "outputs": [
    {
     "name": "stdout",
     "output_type": "stream",
     "text": [
      "Volumes data size: \n",
      " (13455, 32768)\n",
      "Labels data size: \n",
      " (13455, 1)\n"
     ]
    }
   ],
   "source": [
    "dataset_vol = np.load(path_input_vol)\n",
    "dataset_lbl = np.load(path_input_lbl)\n",
    "\n",
    "print(\"Volumes data size: \\n\",dataset_vol.shape)\n",
    "print(\"Labels data size: \\n\",dataset_lbl.shape)"
   ]
  },
  {
   "cell_type": "code",
   "execution_count": 31,
   "metadata": {},
   "outputs": [
    {
     "name": "stdout",
     "output_type": "stream",
     "text": [
      "(10764, 32768)\n",
      "(2691, 32768)\n"
     ]
    }
   ],
   "source": [
    "vol_augm = dataset_vol[0:int(0.8*len(dataset_vol))]\n",
    "vol_test = dataset_vol[int(0.8*len(dataset_vol)):]\n",
    "\n",
    "lbl_augm = dataset_vol[0:int(0.8*len(dataset_vol))]\n",
    "lbl_test = dataset_lbl[int(0.8*len(dataset_lbl)):]\n",
    "\n",
    "print(vol_augm.shape)\n",
    "print(vol_test.shape)\n"
   ]
  },
  {
   "cell_type": "code",
   "execution_count": 32,
   "metadata": {},
   "outputs": [],
   "source": [
    "#dataset_lbl = dataset_lbl[:,0]"
   ]
  },
  {
   "cell_type": "code",
   "execution_count": 55,
   "metadata": {},
   "outputs": [
    {
     "name": "stdout",
     "output_type": "stream",
     "text": [
      "(array([1023,  836,  771,  967, 1005, 1554, 1204, 1603,  985, 1323,  637,\n",
      "        782,  417,  348], dtype=int64), array([ 0,  1,  2,  3,  4,  5,  6,  7,  8,  9, 10, 11, 12, 13, 14]))\n"
     ]
    }
   ],
   "source": [
    "hist = np.histogram(dataset_lbl, bins=range(15))\n",
    "print(hist)"
   ]
  },
  {
   "cell_type": "code",
   "execution_count": 56,
   "metadata": {},
   "outputs": [
    {
     "data": {
      "image/png": "[encoded data removed]",
      "text/plain": [
       "<matplotlib.figure.Figure at 0x14e5baf8128>"
      ]
     },
     "metadata": {},
     "output_type": "display_data"
    }
   ],
   "source": [
    "fig, axes = plt.subplots(figsize=(10, 10))\n",
    "fig.subplots_adjust(left=0.1, wspace=0.4, hspace = 0.4)\n",
    "x_axe = np.arange(0,14,1)\n",
    "# plot time signal:\n",
    "axes.set_title(\"P12\")\n",
    "axes.bar(x_axe , hist[0], color='C0')\n",
    "axes.set_xlabel(\"Clases\")\n",
    "axes.set_ylabel(\"Datos de entrenamiento\")\n",
    "plt.show()"
   ]
  },
  {
   "cell_type": "code",
   "execution_count": null,
   "metadata": {},
   "outputs": [],
   "source": []
  }
 ],
 "metadata": {
  "kernelspec": {
   "display_name": "Python 2",
   "language": "python",
   "name": "python2"
  },
  "language_info": {
   "codemirror_mode": {
    "name": "ipython",
    "version": 2
   },
   "file_extension": ".py",
   "mimetype": "text/x-python",
   "name": "python",
   "nbconvert_exporter": "python",
   "pygments_lexer": "ipython2",
   "version": "2.7.12"
  }
 },
 "nbformat": 4,
 "nbformat_minor": 2
}
