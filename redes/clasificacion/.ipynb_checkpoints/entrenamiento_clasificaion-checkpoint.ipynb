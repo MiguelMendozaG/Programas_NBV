{
 "cells": [
  {
   "cell_type": "code",
   "execution_count": 1,
   "metadata": {},
   "outputs": [
    {
     "name": "stderr",
     "output_type": "stream",
     "text": [
      "/home/miguelmg/anaconda3/envs/tensorflow/lib/python3.5/site-packages/h5py/__init__.py:36: FutureWarning: Conversion of the second argument of issubdtype from `float` to `np.floating` is deprecated. In future, it will be treated as `np.float64 == np.dtype(float).type`.\n",
      "  from ._conv import register_converters as _register_converters\n"
     ]
    }
   ],
   "source": [
    "import numpy as np\n",
    "import tensorflow as tf \n",
    "import matplotlib.pyplot as plt\n",
    "import time"
   ]
  },
  {
   "cell_type": "code",
   "execution_count": 2,
   "metadata": {},
   "outputs": [],
   "source": [
    "#path_input_vol = \"E:/dataset_tesis/np_dataset_vol.npy\"\n",
    "#path_input_lbl = \"E:/dataset_tesis/np_dataset_lbl.npy\""
   ]
  },
  {
   "cell_type": "code",
   "execution_count": 3,
   "metadata": {},
   "outputs": [],
   "source": [
    "#dataset_vol = np.load(path_input_vol)\n",
    "#dataset_lbl = np.load(path_input_lbl)"
   ]
  },
  {
   "cell_type": "code",
   "execution_count": 4,
   "metadata": {},
   "outputs": [
    {
     "name": "stdout",
     "output_type": "stream",
     "text": [
      "Volumes data size: \n",
      " (13455, 32768)\n",
      "Labels data size: \n",
      " (13455, 1)\n"
     ]
    }
   ],
   "source": [
    "#print(\"Volumes data size: \\n\",dataset_vol.shape)\n",
    "#print(\"Labels data size: \\n\",dataset_lbl.shape)"
   ]
  },
  {
   "cell_type": "code",
   "execution_count": 5,
   "metadata": {},
   "outputs": [
    {
     "name": "stdout",
     "output_type": "stream",
     "text": [
      "[9 4 3 ... 6 9 4]\n"
     ]
    }
   ],
   "source": [
    "#dataset_lbl = dataset_lbl[:,0]\n",
    "#print(dataset_lbl)"
   ]
  },
  {
   "cell_type": "code",
   "execution_count": 6,
   "metadata": {},
   "outputs": [
    {
     "name": "stdout",
     "output_type": "stream",
     "text": [
      "Training images size: \n",
      " (8745, 32768)\n",
      "Test images size: \n",
      " (2691, 32768)\n",
      "Training labels size: \n",
      " (8745, 14)\n",
      "Test labels size: \n",
      " (2691, 14)\n",
      "[[0. 0. 0. 0. 0. 0. 0. 0. 0. 1. 0. 0. 0. 0.]\n",
      " [0. 0. 0. 0. 1. 0. 0. 0. 0. 0. 0. 0. 0. 0.]\n",
      " [0. 0. 0. 1. 0. 0. 0. 0. 0. 0. 0. 0. 0. 0.]\n",
      " [0. 0. 0. 0. 0. 1. 0. 0. 0. 0. 0. 0. 0. 0.]\n",
      " [0. 0. 0. 0. 0. 1. 0. 0. 0. 0. 0. 0. 0. 0.]]\n"
     ]
    },
    {
     "data": {
      "image/png": "[encoded data removed]",
      "text/plain": [
       "<matplotlib.figure.Figure at 0x157932ae4e0>"
      ]
     },
     "metadata": {},
     "output_type": "display_data"
    }
   ],
   "source": [
    "vol_training = dataset_vol[0:int(0.65*len(dataset_vol))]\n",
    "vol_test = dataset_vol[int(0.8*len(dataset_vol)):]\n",
    "\n",
    "#------One hot encoding creation -----------\n",
    "one_hot_encoding = np.zeros((len(dataset_lbl),14))\n",
    "one_hot_encoding[np.arange(len(dataset_lbl)), dataset_lbl] = 1\n",
    "#print(dataset_lbl[0:2])\n",
    "#print(one_hot_encoding[0])\n",
    "\n",
    "lbl_training = one_hot_encoding[0:int(0.65*len(one_hot_encoding))]\n",
    "lbl_test = one_hot_encoding[int(0.8*len(one_hot_encoding)):]\n",
    "\n",
    "print(\"Training images size: \\n\",vol_training.shape)\n",
    "print(\"Test images size: \\n\",vol_test.shape)\n",
    "\n",
    "print(\"Training labels size: \\n\",lbl_training.shape)\n",
    "print(\"Test labels size: \\n\",lbl_test.shape)\n",
    "\n",
    "indice = 1000\n",
    "slide = 0\n",
    "vol_slide = np.reshape(vol_training[indice],(32,32,32))\n",
    "vol_slide = vol_slide[:][:][slide]\n",
    "\n",
    "plt.imshow(vol_slide)\n",
    "\n",
    "print(lbl_training[0:5])\n"
   ]
  },
  {
   "cell_type": "code",
   "execution_count": null,
   "metadata": {},
   "outputs": [],
   "source": [
    "distance_matrix = np.load('C:/Users/secie/Dropbox/tesis/distance_matrix.npy')\n",
    "def error_distance(y_predicted, y_true):\n",
    "    \n",
    "    return distance"
   ]
  },
  {
   "cell_type": "code",
   "execution_count": 7,
   "metadata": {},
   "outputs": [],
   "source": [
    "def reset_graph():\n",
    "    if 'sess' in globals() and sess:\n",
    "        sess.close()\n",
    "    tf.reset_default_graph()"
   ]
  },
  {
   "cell_type": "code",
   "execution_count": 8,
   "metadata": {},
   "outputs": [],
   "source": [
    "def mini_red(x, n_classes = 14 ):\n",
    "    mu = 0\n",
    "    sigma = 0.1\n",
    "    #limpiar graficas anteriores\n",
    "    #reset_graph()\n",
    "    \n",
    "    #Imagenes \n",
    "    img = tf.reshape(x, shape=[-1, 32,32,32])\n",
    "    #tf.summary.image(\"Image\", img)\n",
    "    # Declarando las variables \n",
    "    weights = {'W_conv1':tf.Variable(tf.truncated_normal([7,7,3,4], mean = mu, stddev = sigma)),\n",
    "               'W_conv2':tf.Variable(tf.truncated_normal([5,5,4,5], mean = mu, stddev = sigma)),\n",
    "               'W_fc1':tf.Variable(tf.truncated_normal([32*32*32,1500], mean = mu, stddev = sigma)),\n",
    "               'W_fc2':tf.Variable(tf.truncated_normal([1500, 750], mean = mu, stddev = sigma)),\n",
    "               'W_fc3':tf.Variable(tf.truncated_normal([750, 100], mean = mu, stddev = sigma)),\n",
    "               'W_fc4':tf.Variable(tf.truncated_normal([100,50], mean= mu, stddev= sigma)),\n",
    "               'out':tf.Variable(tf.truncated_normal([50, n_classes], mean = mu, stddev = sigma))}\n",
    "\n",
    "    biases = {'b_conv1':tf.Variable(tf.random_normal([4])),\n",
    "              'b_conv2':tf.Variable(tf.random_normal([5])),\n",
    "              'b_fc1':tf.Variable(tf.random_normal([1500])),\n",
    "              'b_fc2':tf.Variable(tf.random_normal([750])),\n",
    "              'b_fc3':tf.Variable(tf.random_normal([100])),\n",
    "              'b_fc4':tf.Variable(tf.random_normal([50])),\n",
    "              'out':tf.Variable(tf.random_normal([n_classes]))}\n",
    "   \n",
    "    \n",
    "    \n",
    "    # Declarando la arquitectura\n",
    "    \n",
    "    #Input: 200x200x3     Output: 50x50x3\n",
    "    #l1 = tf.nn.conv2d(img, weights['W_conv1'], strides=[1,2,2,1], padding='SAME')\n",
    "    #l1 = tf.add(l1, biases['b_conv1'])\n",
    "    #l1 = tf.nn.relu(l1)\n",
    "    #l1 = tf.nn.dropout(l1, keep_rate2)\n",
    "    #l1 = tf.nn.max_pool(l1, ksize=[1,2,2,1], strides=[1,2,2,1], padding='VALID')\n",
    "    \n",
    "    #Input: 50x50x3     Output: 50x50x6\n",
    "    #l2 = tf.nn.conv2d(l1, weights['W_conv2'], strides=[1,1,1,1], padding='SAME')\n",
    "    #l2 = tf.add(l2, biases['b_conv2'])\n",
    "    #l2 = tf.nn.relu(l2)\n",
    "    #l2 = tf.nn.dropout(l2, keep_rate2)\n",
    "    \n",
    "    #Input: 50x50x6     Output: 25x25x6\n",
    "    #l2 = tf.nn.max_pool(l2, ksize=[1,2,2,1], strides=[1,2,2,1], padding='VALID')\n",
    "    #print(l2.shape)\n",
    "    \n",
    "    \n",
    "    #Input: 6x6x8     Output: 128\n",
    "    #fc1 = tf.reshape(l2, [-1, 25*25*5])\n",
    "    fc1 = tf.nn.relu(tf.matmul(x, weights['W_fc1'])+biases['b_fc1'])\n",
    "    fc1 = tf.nn.dropout(fc1, keep_rate)\n",
    "                          \n",
    "    #Input: 128     Output: 64\n",
    "    fc2 = tf.nn.relu(tf.matmul(fc1, weights['W_fc2'])+biases['b_fc2'])\n",
    "    fc2 = tf.nn.dropout(fc2, keep_rate)\n",
    "    \n",
    "    fc3 = tf.nn.relu(tf.matmul(fc2, weights['W_fc3'])+biases['b_fc3'])\n",
    "    fc3 = tf.nn.dropout(fc3, keep_rate)\n",
    "    \n",
    "    fc4 = tf.nn.relu(tf.matmul(fc3, weights['W_fc4'])+biases['b_fc4'])\n",
    "    fc4 = tf.nn.dropout(fc4, keep_rate)\n",
    "\n",
    "    output_ = tf.matmul(fc4, weights['out'])+biases['out']\n",
    "\n",
    "    # Declarando la funcion de costo y entrenamiento\n",
    "    #cost = tf.reduce_mean( tf.nn.softmax_cross_entropy_with_logits(logits=output, labels=y) )\n",
    "    #optimizer = tf.train.AdamOptimizer(0.0001).minimize(cost)\n",
    "    \n",
    "    #almacenar costo\n",
    "    #tf.summary.scalar(\"costo\", cost)\n",
    "    #generar logs\n",
    "    #summaries = tf.summary.merge_all()\n",
    "    \n",
    "    return output_"
   ]
  },
  {
   "cell_type": "code",
   "execution_count": 2,
   "metadata": {},
   "outputs": [],
   "source": [
    "def voxnet(x, n_classes = 14 ):\n",
    "    mu = 0\n",
    "    sigma = 0.1\n",
    "    #limpiar graficas anteriores\n",
    "    #reset_graph()\n",
    "    \n",
    "    #Imagenes \n",
    "    img = tf.reshape(x, shape=[-1, 32,32,32,1])\n",
    "    #tf.summary.image(\"Image\", img)\n",
    "    # Declarando las variables \n",
    "    weights = {'W_conv1':tf.Variable(tf.truncated_normal([5,5,5,1,32], mean = mu, stddev = sigma)),\n",
    "               'W_conv2':tf.Variable(tf.truncated_normal([3,3,3,32,32], mean = mu, stddev = sigma)),\n",
    "               'W_conv3':tf.Variable(tf.truncated_normal([3,3,3,12,8], mean = mu, stddev = sigma)),\n",
    "               'W_fc1':tf.Variable(tf.truncated_normal([8*8*8*32,128], mean = mu, stddev = sigma)),\n",
    "               'W_fc2':tf.Variable(tf.truncated_normal([1500, 500], mean = mu, stddev = sigma)),\n",
    "               'W_fc3':tf.Variable(tf.truncated_normal([500, 100], mean = mu, stddev = sigma)),\n",
    "               'W_fc4':tf.Variable(tf.truncated_normal([100,50], mean= mu, stddev= sigma)),\n",
    "               'out':tf.Variable(tf.truncated_normal([128, n_classes], mean = mu, stddev = sigma))}\n",
    "\n",
    "    biases = {'b_conv1':tf.Variable(tf.random_normal([32])),\n",
    "              'b_conv2':tf.Variable(tf.random_normal([32])),\n",
    "              'b_conv3':tf.Variable(tf.random_normal([8])),\n",
    "              'b_fc1':tf.Variable(tf.random_normal([128])),\n",
    "              'b_fc2':tf.Variable(tf.random_normal([500])),\n",
    "              'b_fc3':tf.Variable(tf.random_normal([100])),\n",
    "              'b_fc4':tf.Variable(tf.random_normal([50])),\n",
    "              'out':tf.Variable(tf.random_normal([n_classes]))}\n",
    "   \n",
    "    \n",
    "    \n",
    "    # Declarando la arquitectura\n",
    "    \n",
    "    #Input: 200x200x3     Output: 50x50x3\n",
    "    l1 = tf.nn.conv3d(img, weights['W_conv1'], strides=[1,2,2,2,1], padding='SAME')\n",
    "    l1 = tf.add(l1, biases['b_conv1'])\n",
    "    l1 = tf.nn.relu(l1)\n",
    "    print(\"l1: \",l1.shape)\n",
    "    #l1 = tf.nn.dropout(l1, keep_rate)\n",
    "    #l1 = tf.nn.max_pool3d(l1, ksize=[1,2,2,2,1], strides=[1,2,2,2,1], padding='VALID')\n",
    "    \n",
    "    #Input: 50x50x3     Output: 50x50x6\n",
    "    l2 = tf.nn.conv3d(l1, weights['W_conv2'], strides=[1,1,1,1,1], padding='SAME')\n",
    "    l2 = tf.add(l2, biases['b_conv2'])\n",
    "    l2 = tf.nn.relu(l2)\n",
    "    #l2 = tf.nn.dropout(l2, keep_rate)\n",
    "    #print(l2)\n",
    "    \n",
    "    #Input: 50x50x6     Output: 25x25x6\n",
    "    l2 = tf.nn.max_pool3d(l2, ksize=[1,2,2,2,1], strides=[1,2,2,2,1], padding='VALID')\n",
    "    print(\"l2: \",l2.shape)\n",
    "    \n",
    "    #l3 = tf.nn.conv3d(l2, weights['W_conv3'], strides=[1,1,1,1,1], padding='SAME')\n",
    "    #l3= tf.add(l3, biases['b_conv3'])\n",
    "    #l3 = tf.nn.relu(l3)\n",
    "    #l2 = tf.nn.dropout(l2, keep_rate2)\n",
    "    #print(l2)\n",
    "    \n",
    "    #Input: 50x50x6     Output: 25x25x6\n",
    "    #l3 = tf.nn.max_pool3d(l3, ksize=[1,2,2,2,1], strides=[1,2,2,2,1], padding='VALID')\n",
    "    #print(l3.shape)\n",
    "    \n",
    "    \n",
    "    #Input: 6x6x8     Output: 128\n",
    "    fc1 = tf.reshape(l2, [-1, 8*8*8*32])\n",
    "    fc1 = tf.nn.relu(tf.matmul(fc1, weights['W_fc1'])+biases['b_fc1'])\n",
    "    fc1 = tf.nn.dropout(fc1, keep_rate)\n",
    "                          \n",
    "    #Input: 128     Output: 64\n",
    "    #fc2 = tf.nn.relu(tf.matmul(fc1, weights['W_fc2'])+biases['b_fc2'])\n",
    "    #fc2 = tf.nn.dropout(fc2, keep_rate)\n",
    "    \n",
    "    #fc3 = tf.nn.relu(tf.matmul(fc2, weights['W_fc3'])+biases['b_fc3'])\n",
    "    #fc3 = tf.nn.dropout(fc3, keep_rate)\n",
    "    \n",
    "    #fc4 = tf.nn.relu(tf.matmul(fc3, weights['W_fc4'])+biases['b_fc4'])\n",
    "    #fc4 = tf.nn.dropout(fc4, keep_rate)\n",
    "\n",
    "    output_ = tf.matmul(fc1, weights['out'])+biases['out']\n",
    "\n",
    "    # Declarando la funcion de costo y entrenamiento\n",
    "    #cost = tf.reduce_mean( tf.nn.softmax_cross_entropy_with_logits(logits=output, labels=y) )\n",
    "    #optimizer = tf.train.AdamOptimizer().minimize(cost)\n",
    "    \n",
    "    #almacenar costo\n",
    "    #tf.summary.scalar(\"costo\", cost)\n",
    "    #generar logs\n",
    "    #summaries = tf.summary.merge_all()\n",
    "    \n",
    "    return output_"
   ]
  },
  {
   "cell_type": "code",
   "execution_count": 2,
   "metadata": {},
   "outputs": [],
   "source": [
    "def red_3d(x, n_classes = 14 ):\n",
    "    mu = 0\n",
    "    sigma = 0.1\n",
    "    #limpiar graficas anteriores\n",
    "    #reset_graph()  \n",
    "    #Imagenes \n",
    "    img = tf.reshape(x, shape=[-1, 32,32,32,1])\n",
    "    #tf.summary.image(\"Image\", img)\n",
    "    # Declarando las variables \n",
    "    weights = {'W_conv1':tf.Variable(tf.truncated_normal([3,3,3,1,10], mean = mu, stddev = sigma)),\n",
    "               'W_conv2':tf.Variable(tf.truncated_normal([3,3,3,10,12], mean = mu, stddev = sigma)),\n",
    "               'W_conv3':tf.Variable(tf.truncated_normal([3,3,3,12,8], mean = mu, stddev = sigma)),\n",
    "               'W_fc1':tf.Variable(tf.truncated_normal([4*4*4*8,1500], mean = mu, stddev = sigma)),\n",
    "               'W_fc2':tf.Variable(tf.truncated_normal([1500, 500], mean = mu, stddev = sigma)),\n",
    "               'W_fc3':tf.Variable(tf.truncated_normal([500, 100], mean = mu, stddev = sigma)),\n",
    "               'W_fc4':tf.Variable(tf.truncated_normal([100,50], mean= mu, stddev= sigma)),\n",
    "               'out':tf.Variable(tf.truncated_normal([50, n_classes], mean = mu, stddev = sigma))}\n",
    "\n",
    "    biases = {'b_conv1':tf.Variable(tf.random_normal([10])),\n",
    "              'b_conv2':tf.Variable(tf.random_normal([12])),\n",
    "              'b_conv3':tf.Variable(tf.random_normal([8])),\n",
    "              'b_fc1':tf.Variable(tf.random_normal([1500])),\n",
    "              'b_fc2':tf.Variable(tf.random_normal([500])),\n",
    "              'b_fc3':tf.Variable(tf.random_normal([100])),\n",
    "              'b_fc4':tf.Variable(tf.random_normal([50])),\n",
    "              'out':tf.Variable(tf.random_normal([n_classes]))}\n",
    "   \n",
    "    \n",
    "    \n",
    "    # Declarando la arquitectura\n",
    "    \n",
    "    #Input: 200x200x3     Output: 50x50x3\n",
    "    l1 = tf.nn.conv3d(img, weights['W_conv1'], strides=[1,1,1,1,1], padding='SAME')\n",
    "    l1 = tf.add(l1, biases['b_conv1'])\n",
    "    l1 = tf.nn.relu(l1)\n",
    "    print(l1.shape)\n",
    "    #l1 = tf.nn.dropout(l1, keep_rate2)\n",
    "    l1 = tf.nn.max_pool3d(l1, ksize=[1,2,2,2,1], strides=[1,2,2,2,1], padding='VALID')\n",
    "    \n",
    "    #Input: 50x50x3     Output: 50x50x6\n",
    "    l2 = tf.nn.conv3d(l1, weights['W_conv2'], strides=[1,1,1,1,1], padding='SAME')\n",
    "    l2 = tf.add(l2, biases['b_conv2'])\n",
    "    l2 = tf.nn.relu(l2)\n",
    "    #l2 = tf.nn.dropout(l2, keep_rate2)\n",
    "    #print(l2)\n",
    "    \n",
    "    #Input: 50x50x6     Output: 25x25x6\n",
    "    l2 = tf.nn.max_pool3d(l2, ksize=[1,2,2,2,1], strides=[1,2,2,2,1], padding='VALID')\n",
    "    print(l2.shape)\n",
    "    \n",
    "    l3 = tf.nn.conv3d(l2, weights['W_conv3'], strides=[1,1,1,1,1], padding='SAME')\n",
    "    l3= tf.add(l3, biases['b_conv3'])\n",
    "    l3 = tf.nn.relu(l3)\n",
    "    l3 = tf.nn.dropout(l3, keep_rate)\n",
    "    #print(l2)\n",
    "    \n",
    "    #Input: 50x50x6     Output: 25x25x6\n",
    "    l3 = tf.nn.max_pool3d(l3, ksize=[1,2,2,2,1], strides=[1,2,2,2,1], padding='VALID')\n",
    "    print(l3.shape)\n",
    "    \n",
    "    \n",
    "    #Input: 6x6x8     Output: 128\n",
    "    fc1 = tf.reshape(l3, [-1, 4*4*4*8])\n",
    "    fc1 = tf.nn.relu(tf.matmul(fc1, weights['W_fc1'])+biases['b_fc1'])\n",
    "    #fc1 = tf.nn.dropout(fc1, keep_rate)\n",
    "                          \n",
    "    #Input: 128     Output: 64\n",
    "    fc2 = tf.nn.relu(tf.matmul(fc1, weights['W_fc2'])+biases['b_fc2'])\n",
    "    fc2 = tf.nn.dropout(fc2, keep_rate)\n",
    "    \n",
    "    fc3 = tf.nn.relu(tf.matmul(fc2, weights['W_fc3'])+biases['b_fc3'])\n",
    "    fc3 = tf.nn.dropout(fc3, keep_rate)\n",
    "    \n",
    "    fc4 = tf.nn.relu(tf.matmul(fc3, weights['W_fc4'])+biases['b_fc4'])\n",
    "    fc4 = tf.nn.dropout(fc4, keep_rate)\n",
    "\n",
    "    output_ = tf.matmul(fc4, weights['out'])+biases['out']\n",
    "    \n",
    "    #almacenar costo\n",
    "    #tf.summary.scalar(\"costo\", cost)\n",
    "    #generar logs\n",
    "    #summaries = tf.summary.merge_all()\n",
    "    \n",
    "    return output_\n",
    "        #saver = tf.train.Saver()"
   ]
  },
  {
   "cell_type": "code",
   "execution_count": 4,
   "metadata": {},
   "outputs": [
    {
     "name": "stdout",
     "output_type": "stream",
     "text": [
      "(?, 32, 32, 32, 10)\n",
      "(?, 8, 8, 8, 12)\n",
      "(?, 4, 4, 4, 8)\n"
     ]
    }
   ],
   "source": [
    "# Declarando las entradas y salidas\n",
    "x=tf.placeholder('float',[None,32*32*32])\n",
    "y=tf.placeholder('float')\n",
    "keep_rate = tf.placeholder(tf.float32)\n",
    "output = red_3d(x)#################################\n",
    "\n",
    "#cost_euclidean = \n",
    "cost = tf.reduce_mean( tf.nn.softmax_cross_entropy_with_logits(logits=output, labels=y))\n",
    "optimizer = tf.train.AdamOptimizer().minimize(cost)\n",
    "\n",
    "correct = tf.equal(tf.argmax(output, 1), tf.argmax(y, 1))\n",
    "accuracy = tf.reduce_mean(tf.cast(correct, 'float'))"
   ]
  },
  {
   "cell_type": "code",
   "execution_count": 12,
   "metadata": {},
   "outputs": [
    {
     "name": "stdout",
     "output_type": "stream",
     "text": [
      "(?, 32, 32, 32, 10)\n",
      "(?, 8, 8, 8, 12)\n",
      "(?, 4, 4, 4, 8)\n"
     ]
    },
    {
     "data": {
      "text/plain": [
       "<tf.Tensor 'add_6:0' shape=(?, 14) dtype=float32>"
      ]
     },
     "execution_count": 12,
     "metadata": {},
     "output_type": "execute_result"
    }
   ],
   "source": [
    "red_3d(x)"
   ]
  },
  {
   "cell_type": "code",
   "execution_count": 13,
   "metadata": {},
   "outputs": [],
   "source": [
    "def evaluate(x_data, y_data, eval_batch_size):\n",
    "    sess = tf.get_default_session()\n",
    "    eval_i = 0\n",
    "    total_acc = 0\n",
    "    count = 0\n",
    "    for _ in range(int(len(x_data)/eval_batch_size)):\n",
    "        eval_x = x_data[eval_i:eval_i + eval_batch_size]\n",
    "        eval_y = y_data[eval_i:eval_i + eval_batch_size]\n",
    "        eval_accu = sess.run(accuracy, feed_dict = {x:eval_x, y:eval_y, keep_rate: 1})\n",
    "        total_acc += eval_accu\n",
    "        eval_i = eval_i + eval_batch_size\n",
    "        count = count  + 1\n",
    "    total_acc = total_acc / count \n",
    "    return total_acc"
   ]
  },
  {
   "cell_type": "code",
   "execution_count": 14,
   "metadata": {},
   "outputs": [],
   "source": [
    "def train_nn(epochs = 600, batch_size = 100, save = False):\n",
    "    saver = tf.train.Saver()\n",
    "    start_time = time.time()\n",
    "    train_accuracy = []\n",
    "    test_accuracy = []\n",
    "    epoch_loss_ = []\n",
    "    with tf.Session() as sess:\n",
    "        sess.run(tf.global_variables_initializer())\n",
    "        #writer = tf.summary.FileWriter(\"./Octree_logs\")\n",
    "        #tf.summary.FileWriter.add_graph(writer,sess.graph)\n",
    "        #writer.add_graph(sess.graph)\n",
    "        i_prin = 0\n",
    "        for epoch in range(epochs):\n",
    "            epoch_loss = 0\n",
    "            i = 0\n",
    "            for _ in range(int(len(vol_training)/batch_size)):\n",
    "                epoch_x = vol_training[i:i+batch_size]\n",
    "                epoch_y = lbl_training[i:i+batch_size]\n",
    "                #feed_dict={DNN[\"x\"]: epoch_x,DNN[\"y\"]: epoch_y}\n",
    "                sess.run(optimizer ,feed_dict={x: epoch_x, y: epoch_y, keep_rate: 0.7})\n",
    "                c = sess.run(cost, feed_dict = {x: epoch_x, y: epoch_y, keep_rate: 1})\n",
    "                epoch_loss += c\n",
    "                i =i+batch_size\n",
    "            \n",
    "            epoch_loss_.append(epoch_loss)\n",
    "            train_accuracy.append(evaluate(vol_training, lbl_training, batch_size))\n",
    "            test_accuracy.append(evaluate(vol_test, lbl_test, batch_size))\n",
    "            \n",
    "            #tf.summary.scalar('loss',epoch_loss)\n",
    "            #tf.summary.scalar(\"train_accuracy\",train_accuracy)\n",
    "            #tf.summary.scalar(\"test_accuracy\",test_accuracy)\n",
    "            #summ = tf.summary.merge_all()\n",
    "            \n",
    "            if (epoch%20 == 0):\n",
    "                pass\n",
    "                #writer.add_summary(epoch_loss, epoch).eval()\n",
    "            if (epoch%50 ==0):\n",
    "                if isinstance(save, bool):\n",
    "                    ENCname=\"./SVEoctree/\"+str(epoch)+\".ckpt\"\n",
    "                    saver.save(sess, ENCname)\n",
    "\n",
    "            print(\"Epoch: \", epoch, \"Error: \", epoch_loss_[i_prin])\n",
    "            print(\"Train accuracy \\t \\t\", train_accuracy[i_prin])\n",
    "            print(\"Test accuracy \\t \\t\", test_accuracy[i_prin])\n",
    "            i_prin = i_prin + 1\n",
    "\n",
    "    print(\"--- %s seconds ---\" % (time.time() - start_time))\n",
    "    return train_accuracy, test_accuracy, epoch_loss_"
   ]
  },
  {
   "cell_type": "code",
   "execution_count": 15,
   "metadata": {},
   "outputs": [
    {
     "name": "stdout",
     "output_type": "stream",
     "text": [
      "Epoch:  0 Error:  152.0013530254364\n",
      "Train accuracy \t \t 0.13906976719235264\n",
      "Test accuracy \t \t 0.13038461540754026\n",
      "Epoch:  1 Error:  105.53008365631104\n",
      "Train accuracy \t \t 0.19395348880180094\n",
      "Test accuracy \t \t 0.17076923010440972\n",
      "Epoch:  2 Error:  98.98602104187012\n",
      "Train accuracy \t \t 0.215930231781893\n",
      "Test accuracy \t \t 0.1900000010545437\n",
      "Epoch:  3 Error:  95.3135461807251\n",
      "Train accuracy \t \t 0.2408139532388643\n",
      "Test accuracy \t \t 0.22692307600608239\n",
      "--- 41.82948923110962 seconds ---\n"
     ]
    }
   ],
   "source": [
    "train_accuracy, test_accuracy, epoch_loss = train_nn(4, 200, False)"
   ]
  },
  {
   "cell_type": "code",
   "execution_count": 16,
   "metadata": {
    "collapsed": true
   },
   "outputs": [
    {
     "name": "stderr",
     "output_type": "stream",
     "text": [
      "C:\\Users\\secie\\Anaconda3\\envs\\tensorflow_gpu\\lib\\site-packages\\matplotlib\\figure.py:418: UserWarning: matplotlib is currently using a non-GUI backend, so cannot show the figure\n",
      "  \"matplotlib is currently using a non-GUI backend, \"\n"
     ]
    },
    {
     "data": {
      "text/plain": [
       "<matplotlib.figure.Figure at 0x158662ae978>"
      ]
     },
     "metadata": {},
     "output_type": "display_data"
    },
    {
     "data": {
      "image/png": "[encoded data removed]",
      "text/plain": [
       "<matplotlib.figure.Figure at 0x158662ae940>"
      ]
     },
     "metadata": {},
     "output_type": "display_data"
    }
   ],
   "source": [
    "fig = plt.figure()\n",
    "fig, ax = plt.subplots()\n",
    "x_axe = np.arange(0,len(train_accuracy),1)\n",
    "ax.set_xlabel('Epochs')\n",
    "ax.set_ylabel('Accuracy')\n",
    "ax.plot(x_axe, train_accuracy, 'b', label = 'Train')\n",
    "ax.plot(x_axe, test_accuracy, 'r', label = 'Test')\n",
    "ax.legend()\n",
    "fig.show()\n",
    "fig.savefig(\"accuracy_red_3d.jpg\", dpi = 300)\n"
   ]
  },
  {
   "cell_type": "code",
   "execution_count": 17,
   "metadata": {
    "collapsed": true
   },
   "outputs": [
    {
     "data": {
      "text/plain": [
       "<matplotlib.legend.Legend at 0x15886c37a90>"
      ]
     },
     "execution_count": 17,
     "metadata": {},
     "output_type": "execute_result"
    },
    {
     "data": {
      "text/plain": [
       "<matplotlib.figure.Figure at 0x158662ae198>"
      ]
     },
     "metadata": {},
     "output_type": "display_data"
    },
    {
     "data": {
      "image/png": "[encoded data removed]",
      "text/plain": [
       "<matplotlib.figure.Figure at 0x158662ae2b0>"
      ]
     },
     "metadata": {},
     "output_type": "display_data"
    }
   ],
   "source": [
    "fig = plt.figure()\n",
    "fig, ax = plt.subplots()\n",
    "x_axe = np.arange(0,len(train_accuracy),1)\n",
    "#ax = fig.add_axes([1,1,1,1])\n",
    "ax.set_xlabel('Epochs')\n",
    "ax.set_ylabel('Error')\n",
    "ax.plot(x_axe, epoch_loss, label = 'Error')\n",
    "fig.savefig(\"error_red_3d.png\", dpi = 300)\n",
    "ax.legend()\n"
   ]
  },
  {
   "cell_type": "code",
   "execution_count": 18,
   "metadata": {},
   "outputs": [],
   "source": [
    "#np.save(\"train_accu_VoxNet2\", train_accuracy)\n",
    "#np.save(\"test_accu_VoxNet2\", test_accuracy)\n",
    "#np.save(\"err_accu_VoxNet2\", epoch_loss)"
   ]
  },
  {
   "cell_type": "code",
   "execution_count": 5,
   "metadata": {},
   "outputs": [
    {
     "name": "stdout",
     "output_type": "stream",
     "text": [
      "[ 3  8  8  8  7  5 11  0]\n",
      "[[0. 0. 0. 1. 0. 0. 0. 0. 0. 0. 0. 0. 0. 0.]\n",
      " [0. 0. 0. 0. 0. 0. 0. 0. 1. 0. 0. 0. 0. 0.]\n",
      " [0. 0. 0. 0. 0. 0. 0. 0. 1. 0. 0. 0. 0. 0.]\n",
      " [0. 0. 0. 0. 0. 0. 0. 0. 1. 0. 0. 0. 0. 0.]\n",
      " [0. 0. 0. 0. 0. 0. 0. 1. 0. 0. 0. 0. 0. 0.]\n",
      " [0. 0. 0. 0. 0. 1. 0. 0. 0. 0. 0. 0. 0. 0.]\n",
      " [0. 0. 0. 0. 0. 0. 0. 0. 0. 0. 0. 1. 0. 0.]\n",
      " [1. 0. 0. 0. 0. 0. 0. 0. 0. 0. 0. 0. 0. 0.]]\n"
     ]
    }
   ],
   "source": [
    "real_test_vol = np.load('C:/Users/secie/Dropbox/tesis/11_ref_5_vol.npy')\n",
    "real_test_lbl = np.load('C:/Users/secie/Dropbox/tesis/11_ref_5_lbl.npy')\n",
    "one_hot_encoding_test = np.zeros((len(real_test_lbl),14))\n",
    "one_hot_encoding_test[np.arange(len(real_test_lbl)), real_test_lbl] = 1\n",
    "print(real_test_lbl)\n",
    "print(one_hot_encoding_test)\n",
    "\n",
    "#rint(real_test_vol[0:1])\n",
    "x_in = real_test_vol[7:8]\n",
    "y_in = one_hot_encoding_test[7:8]\n"
   ]
  },
  {
   "cell_type": "code",
   "execution_count": 52,
   "metadata": {},
   "outputs": [
    {
     "name": "stdout",
     "output_type": "stream",
     "text": [
      "(1, 14)\n"
     ]
    }
   ],
   "source": [
    "#real_test_vol = np.load('C:/Users/secie/Dropbox/tesis/octree_DNN5.npy')\n",
    "#print(real_test_vol.shape)\n",
    "#x_in = real_test_vol\n",
    "print(y_in.shape)"
   ]
  },
  {
   "cell_type": "code",
   "execution_count": 49,
   "metadata": {},
   "outputs": [],
   "source": [
    "def test_neural_network():\n",
    "    saver = tf.train.Saver()\n",
    "    with tf.Session() as sess:\n",
    "        model_path = 'SVEoctree_test_clasif/350.ckpt'\n",
    "        sess.run(tf.global_variables_initializer())\n",
    "        saver.restore(sess, model_path)\n",
    "        y_  = sess.run(output, feed_dict={x:x_in, y:y_in, keep_rate: 1})\n",
    "        out = tf.one_hot(y_, 14)\n",
    "        acc = sess.run(accuracy, feed_dict ={x:x_in, y:y_in, keep_rate: 1})\n",
    "        print(\"Accuracy\", acc)\n",
    "        print(\"Truth label\",np.argmax(y_in))\n",
    "        print(\"Predicted label\", np.argmax(y_))\n",
    "\n",
    "        return y_"
   ]
  },
  {
   "cell_type": "code",
   "execution_count": 50,
   "metadata": {},
   "outputs": [
    {
     "name": "stdout",
     "output_type": "stream",
     "text": [
      "INFO:tensorflow:Restoring parameters from SVEoctree_test/350.ckpt\n",
      "Accuracy 0.0\n",
      "Truth label 0\n",
      "Predicted label 1\n"
     ]
    }
   ],
   "source": [
    "out = test_neural_network()\n",
    "#print(out)"
   ]
  },
  {
   "cell_type": "code",
   "execution_count": null,
   "metadata": {},
   "outputs": [],
   "source": []
  }
 ],
 "metadata": {
  "kernelspec": {
   "display_name": "Python 3",
   "language": "python",
   "name": "python3"
  },
  "language_info": {
   "codemirror_mode": {
    "name": "ipython",
    "version": 3
   },
   "file_extension": ".py",
   "mimetype": "text/x-python",
   "name": "python",
   "nbconvert_exporter": "python",
   "pygments_lexer": "ipython3",
   "version": "3.5.4"
  }
 },
 "nbformat": 4,
 "nbformat_minor": 2
}
