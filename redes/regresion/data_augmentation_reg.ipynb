{
 "cells": [
  {
   "cell_type": "code",
   "execution_count": 1,
   "metadata": {},
   "outputs": [
    {
     "name": "stderr",
     "output_type": "stream",
     "text": [
      "C:\\Users\\secie\\Anaconda3\\envs\\tensorflow_gpu\\lib\\site-packages\\h5py\\__init__.py:36: FutureWarning: Conversion of the second argument of issubdtype from `float` to `np.floating` is deprecated. In future, it will be treated as `np.float64 == np.dtype(float).type`.\n",
      "  from ._conv import register_converters as _register_converters\n"
     ]
    }
   ],
   "source": [
    "import numpy as np\n",
    "import tensorflow as tf \n",
    "import matplotlib.pyplot as plt\n",
    "import time\n",
    "from random import shuffle\n",
    "import sys\n",
    "import gc"
   ]
  },
  {
   "cell_type": "code",
   "execution_count": 2,
   "metadata": {},
   "outputs": [],
   "source": [
    "path_input_vol = \"E:/dataset_tesis/dataset_augmented/vol_training.npy\"\n",
    "path_input_lbl = \"E:/dataset_tesis/dataset_augmented/lbl_training.npy\""
   ]
  },
  {
   "cell_type": "code",
   "execution_count": 3,
   "metadata": {},
   "outputs": [],
   "source": [
    "dataset_vol = np.load(path_input_vol)\n",
    "dataset_lbl = np.load(path_input_lbl)"
   ]
  },
  {
   "cell_type": "code",
   "execution_count": 4,
   "metadata": {},
   "outputs": [
    {
     "name": "stdout",
     "output_type": "stream",
     "text": [
      "Volumes data size: \n",
      " (12132, 32768)\n",
      "Labels data size: \n",
      " (12132, 3)\n",
      "Size of dataset:  3180.33112 MB\n"
     ]
    }
   ],
   "source": [
    "print(\"Volumes data size: \\n\",dataset_vol.shape)\n",
    "print(\"Labels data size: \\n\",dataset_lbl.shape)\n",
    "print(\"Size of dataset: \", sys.getsizeof(dataset_vol)/1000000, 'MB')"
   ]
  },
  {
   "cell_type": "code",
   "execution_count": 5,
   "metadata": {},
   "outputs": [
    {
     "name": "stdout",
     "output_type": "stream",
     "text": [
      "[0.164948 0.228571 0.228571 ... 0.1192   0.1192   0.1192  ]\n",
      "[ 77.2592   68.0347  107.81515]\n"
     ]
    }
   ],
   "source": [
    "print(dataset_vol[0])\n",
    "print(dataset_lbl[0])"
   ]
  },
  {
   "cell_type": "code",
   "execution_count": 6,
   "metadata": {},
   "outputs": [
    {
     "name": "stdout",
     "output_type": "stream",
     "text": [
      "Size of dataset:  3180.33112 MB\n"
     ]
    }
   ],
   "source": [
    "print(\"Size of dataset: \", sys.getsizeof(dataset_vol)/1000000, 'MB')"
   ]
  },
  {
   "cell_type": "code",
   "execution_count": 7,
   "metadata": {},
   "outputs": [],
   "source": [
    "#################################################\n",
    "##### Data Augmentation #########################\n",
    "################################################\n",
    "vol_augm = []\n",
    "lbl_augm = []\n",
    "for i in range(len(dataset_vol)):\n",
    "    vol_augm.append(np.random.normal(0,0.01,size=len(dataset_vol[0])) + dataset_vol[i])\n",
    "    lbl_augm.append(dataset_lbl[i])\n",
    "\n",
    "vol_augm = np.array(vol_augm)\n",
    "lbl_augm = np.array(lbl_augm)\n",
    "\n",
    "data = np.concatenate((dataset_vol, vol_augm))\n",
    "label = np.concatenate((dataset_lbl, lbl_augm))"
   ]
  },
  {
   "cell_type": "code",
   "execution_count": 8,
   "metadata": {},
   "outputs": [
    {
     "name": "stdout",
     "output_type": "stream",
     "text": [
      "Input dataset shape:  (12132, 32768)\n",
      "Augmented dataset shape:  (12132, 32768)\n",
      "Output dataset shape:  (24264, 32768)\n",
      "Output dataset labels:  (24264, 3)\n",
      "Dataset ouput size:  6360.662128 MB\n"
     ]
    }
   ],
   "source": [
    "print(\"Input dataset shape: \",dataset_vol.shape)\n",
    "print(\"Augmented dataset shape: \",vol_augm.shape)\n",
    "print(\"Output dataset shape: \",data.shape)\n",
    "print(\"Output dataset labels: \",label.shape)\n",
    "print(\"Dataset ouput size: \", sys.getsizeof(data)/1000000, 'MB')"
   ]
  },
  {
   "cell_type": "code",
   "execution_count": 9,
   "metadata": {},
   "outputs": [],
   "source": [
    "baraja = list(zip(data, label))\n",
    "shuffle(baraja)\n",
    "data, label = zip(*baraja)"
   ]
  },
  {
   "cell_type": "code",
   "execution_count": 10,
   "metadata": {},
   "outputs": [],
   "source": [
    "np.save(\"E:/dataset_tesis/dataset_augmented/vol_training_augmented.npy\", data)\n",
    "np.save(\"E:/dataset_tesis/dataset_augmented/lbl_training_augmented.npy\", label)"
   ]
  },
  {
   "cell_type": "code",
   "execution_count": null,
   "metadata": {},
   "outputs": [],
   "source": []
  }
 ],
 "metadata": {
  "kernelspec": {
   "display_name": "Python 3",
   "language": "python",
   "name": "python3"
  },
  "language_info": {
   "codemirror_mode": {
    "name": "ipython",
    "version": 3
   },
   "file_extension": ".py",
   "mimetype": "text/x-python",
   "name": "python",
   "nbconvert_exporter": "python",
   "pygments_lexer": "ipython3",
   "version": "3.6.5"
  }
 },
 "nbformat": 4,
 "nbformat_minor": 2
}
