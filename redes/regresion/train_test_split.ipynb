{
 "cells": [
  {
   "cell_type": "code",
   "execution_count": 1,
   "metadata": {},
   "outputs": [
    {
     "name": "stderr",
     "output_type": "stream",
     "text": [
      "C:\\Users\\secie\\Anaconda3\\envs\\tensorflow_gpu\\lib\\site-packages\\h5py\\__init__.py:36: FutureWarning: Conversion of the second argument of issubdtype from `float` to `np.floating` is deprecated. In future, it will be treated as `np.float64 == np.dtype(float).type`.\n",
      "  from ._conv import register_converters as _register_converters\n"
     ]
    }
   ],
   "source": [
    "import numpy as np\n",
    "import tensorflow as tf \n",
    "import matplotlib.pyplot as plt\n",
    "import time\n",
    "from random import shuffle"
   ]
  },
  {
   "cell_type": "code",
   "execution_count": 2,
   "metadata": {},
   "outputs": [],
   "source": [
    "path_input_vol = \"E:/dataset_tesis/dataset_volumes.npy\"\n",
    "path_input_lbl = \"E:/dataset_tesis/dataset_lbl_pose.npy\""
   ]
  },
  {
   "cell_type": "code",
   "execution_count": 3,
   "metadata": {},
   "outputs": [],
   "source": [
    "dataset_vol = np.load(path_input_vol)\n",
    "dataset_lbl = np.load(path_input_lbl)\n",
    "dataset_lbl = (dataset_lbl+1)*100"
   ]
  },
  {
   "cell_type": "code",
   "execution_count": 4,
   "metadata": {},
   "outputs": [
    {
     "name": "stdout",
     "output_type": "stream",
     "text": [
      "Volumes data size: \n",
      " (15166, 32768)\n",
      "Labels data size: \n",
      " (15166, 3)\n"
     ]
    }
   ],
   "source": [
    "print(\"Volumes data size: \\n\",dataset_vol.shape)\n",
    "print(\"Labels data size: \\n\",dataset_lbl.shape)"
   ]
  },
  {
   "cell_type": "code",
   "execution_count": 5,
   "metadata": {},
   "outputs": [
    {
     "name": "stdout",
     "output_type": "stream",
     "text": [
      "[ 77.1566   92.15666 131.8851 ]\n"
     ]
    }
   ],
   "source": [
    "print(dataset_lbl[5])"
   ]
  },
  {
   "cell_type": "code",
   "execution_count": 6,
   "metadata": {},
   "outputs": [],
   "source": [
    "baraja = list(zip(dataset_vol, dataset_lbl))\n",
    "shuffle(baraja)\n",
    "dataset_vol, dataset_lbl = zip(*baraja)"
   ]
  },
  {
   "cell_type": "code",
   "execution_count": 7,
   "metadata": {},
   "outputs": [
    {
     "name": "stdout",
     "output_type": "stream",
     "text": [
      "[ 72.4292 128.9802 100.    ]\n"
     ]
    }
   ],
   "source": [
    "print(dataset_lbl[5])"
   ]
  },
  {
   "cell_type": "code",
   "execution_count": 8,
   "metadata": {},
   "outputs": [
    {
     "name": "stdout",
     "output_type": "stream",
     "text": [
      "Training images size: \n",
      " (12132, 32768)\n",
      "Test images size: \n",
      " (3034, 32768)\n",
      "Training labels size: \n",
      " (12132, 3)\n",
      "Test labels size: \n",
      " (3034, 3)\n"
     ]
    },
    {
     "data": {
      "image/png": "[encoded data removed]",
      "text/plain": [
       "<matplotlib.figure.Figure at 0x25135a935f8>"
      ]
     },
     "metadata": {},
     "output_type": "display_data"
    },
    {
     "name": "stdout",
     "output_type": "stream",
     "text": [
      "[[ 77.2592   68.0347  107.81515]\n",
      " [128.3964   76.0357  114.8107 ]\n",
      " [ 75.7787   68.1672  100.     ]\n",
      " [107.84334 131.8851  122.8434 ]\n",
      " [131.8514   89.5034  121.8016 ]\n",
      " [ 72.4292  128.9802  100.     ]]\n"
     ]
    }
   ],
   "source": [
    "vol_training = np.array(dataset_vol[0:int(0.8*len(dataset_vol))])\n",
    "vol_test = np.array(dataset_vol[int(0.8*len(dataset_vol)):])\n",
    "\n",
    "lbl_training = np.array(dataset_lbl[0:int(0.8*len(dataset_lbl))])\n",
    "lbl_test = np.array(dataset_lbl[int(0.8*len(dataset_lbl)):])\n",
    "\n",
    "print(\"Training images size: \\n\",vol_training.shape)\n",
    "print(\"Test images size: \\n\",vol_test.shape)\n",
    "\n",
    "print(\"Training labels size: \\n\",lbl_training.shape)\n",
    "print(\"Test labels size: \\n\",lbl_test.shape)\n",
    "\n",
    "indice = 1000\n",
    "slide = 0\n",
    "vol_slide = np.reshape(vol_training[indice],(32,32,32))\n",
    "vol_slide = vol_slide[:][:][slide]\n",
    "\n",
    "plt.imshow(vol_slide)\n",
    "plt.show()\n",
    "\n",
    "print(lbl_training[0:6])\n"
   ]
  },
  {
   "cell_type": "code",
   "execution_count": 9,
   "metadata": {},
   "outputs": [],
   "source": [
    "np.save(\"E:/dataset_tesis/dataset_augmented/vol_training.npy\", vol_training)\n",
    "np.save(\"E:/dataset_tesis/dataset_augmented/lbl_training.npy\", lbl_training)\n",
    "\n",
    "np.save(\"E:/dataset_tesis/dataset_augmented/vol_testing.npy\", vol_test)\n",
    "np.save(\"E:/dataset_tesis/dataset_augmented/lbl_testing.npy\", lbl_test)"
   ]
  },
  {
   "cell_type": "code",
   "execution_count": null,
   "metadata": {},
   "outputs": [],
   "source": []
  }
 ],
 "metadata": {
  "kernelspec": {
   "display_name": "Python 3",
   "language": "python",
   "name": "python3"
  },
  "language_info": {
   "codemirror_mode": {
    "name": "ipython",
    "version": 3
   },
   "file_extension": ".py",
   "mimetype": "text/x-python",
   "name": "python",
   "nbconvert_exporter": "python",
   "pygments_lexer": "ipython3",
   "version": "3.6.5"
  }
 },
 "nbformat": 4,
 "nbformat_minor": 2
}
