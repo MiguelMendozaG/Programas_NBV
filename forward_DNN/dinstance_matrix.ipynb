{
 "cells": [
  {
   "cell_type": "code",
   "execution_count": 1,
   "metadata": {},
   "outputs": [],
   "source": [
    "import numpy as np\n",
    "import glob\n",
    "from scipy.spatial import distance\n",
    "import re"
   ]
  },
  {
   "cell_type": "code",
   "execution_count": 25,
   "metadata": {},
   "outputs": [
    {
     "name": "stdout",
     "output_type": "stream",
     "text": [
      "[ 4.95580e-02 -1.22515e-01  3.77537e-01  8.50000e+01]\n",
      "[-1.82211e-01  8.04380e-02  3.46884e-01  1.45000e+02]\n",
      "[2.53039e-01 3.12770e-02 3.08210e-01 2.70000e+02]\n",
      "[-1.30816e-01 -2.71449e-01  2.63064e-01  4.95000e+02]\n",
      "[-7.84330e-02  3.18851e-01  2.28434e-01  6.10000e+02]\n",
      "[ 2.72341e-01 -2.33516e-01  1.76920e-01  6.55000e+02]\n",
      "[-3.76132e-01 -2.40830e-02  1.33958e-01  9.55000e+02]\n",
      "[2.33011e-01 3.00876e-01 1.23205e-01 8.40000e+02]\n",
      "[ 1.57840e-02 -3.98872e-01  2.55390e-02  1.26500e+03]\n",
      "[-2.74943e-01  2.88998e-01  2.97680e-02  1.11500e+03]\n",
      "[ 3.96598e-01 -5.20600e-02  0.00000e+00  1.27500e+03]\n",
      "[-3.24904e-01 -2.32770e-01  1.59840e-02  1.05000e+03]\n",
      "[3.08100e-02 3.98812e-01 0.00000e+00 1.28500e+03]\n",
      "[ 1.68218e-01 -3.62909e-01  0.00000e+00  1.31000e+03]\n",
      "[-3.96598e-01  5.20600e-02  0.00000e+00  1.25000e+03]\n",
      "[3.40260e-01 2.10292e-01 0.00000e+00 1.00500e+03]\n",
      "[-1.18097e-01 -3.82169e-01  0.00000e+00  1.30000e+03]\n",
      "[-1.18097e-01  3.82169e-01  0.00000e+00  1.29000e+03]\n",
      "[ 3.96598e-01 -5.20600e-02  0.00000e+00  1.27500e+03]\n",
      "[-3.66437e-01 -1.60387e-01  0.00000e+00  1.13000e+03]\n",
      "[-0.366437 -0.160387  0.      ]\n"
     ]
    }
   ],
   "source": [
    "input_file = np.genfromtxt('/home/miguelmg/Documents/CIDETEC/semestre 2/vision 3d/proyecto/6d pose/hinterstoisser/nubes/dataset/test_DNN/programas/equiv_class2pose.txt')\n",
    "output_folder = '/home/miguelmg/Documents/CIDETEC/semestre 2/vision 3d/proyecto/6d pose/hinterstoisser/nubes/dataset/test_DNN/equiv_class2pose.txt'\n",
    "\n",
    "#print(input_file)\n",
    "x = input_file[0][0:3]\n",
    "#print(len(input_file))\n",
    "\n",
    "for _,coord in enumerate(input_file):\n",
    "    print(coord)\n",
    "    \n",
    "#x = coor    \n",
    "print(coord[0:3])"
   ]
  },
  {
   "cell_type": "code",
   "execution_count": 42,
   "metadata": {},
   "outputs": [
    {
     "name": "stdout",
     "output_type": "stream",
     "text": [
      "400\n",
      "Ordenadas: \n",
      " 0.43972155359613657\n"
     ]
    }
   ],
   "source": [
    "coord1 = []\n",
    "for _,coord in enumerate(input_file):\n",
    "    for i, coord2 in enumerate(input_file):\n",
    "        distance_ = distance.euclidean(coord[0:3], coord2[0:3])\n",
    "        coord1.append([distance_])\n",
    "    \n",
    "print(len(coord1))\n",
    "coord = np.array(coord1)\n",
    "coord = np.reshape(coord,(20,20))\n",
    "np.save(\"distance_matrix\",coord)\n",
    "\n",
    "print(\"Ordenadas: \\n\",coord[2][1])"
   ]
  },
  {
   "cell_type": "code",
   "execution_count": null,
   "metadata": {},
   "outputs": [],
   "source": []
  }
 ],
 "metadata": {
  "kernelspec": {
   "display_name": "Python 3",
   "language": "python",
   "name": "python3"
  },
  "language_info": {
   "codemirror_mode": {
    "name": "ipython",
    "version": 3
   },
   "file_extension": ".py",
   "mimetype": "text/x-python",
   "name": "python",
   "nbconvert_exporter": "python",
   "pygments_lexer": "ipython3",
   "version": "3.5.4"
  }
 },
 "nbformat": 4,
 "nbformat_minor": 2
}
