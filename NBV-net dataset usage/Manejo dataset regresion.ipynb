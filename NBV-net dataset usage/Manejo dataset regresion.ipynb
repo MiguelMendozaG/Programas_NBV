{
 "cells": [
  {
   "cell_type": "markdown",
   "metadata": {},
   "source": [
    "# This notebook shows how to use the NBV-Net dataset for regression"
   ]
  },
  {
   "cell_type": "markdown",
   "metadata": {},
   "source": [
    "## Numpy is imported"
   ]
  },
  {
   "cell_type": "code",
   "execution_count": 1,
   "metadata": {
    "collapsed": true
   },
   "outputs": [],
   "source": [
    "import numpy as np\n",
    "import matplotlib.pyplot as plt"
   ]
  },
  {
   "cell_type": "markdown",
   "metadata": {},
   "source": [
    "### Location where data and labels are stored"
   ]
  },
  {
   "cell_type": "code",
   "execution_count": 2,
   "metadata": {
    "collapsed": true
   },
   "outputs": [],
   "source": [
    "path_input_vol = \"/media/miguelmg/BFDA-7F87/dataset/regression/dataset_volumes_regression.npy\"\n",
    "path_input_lbl_pos = \"/media/miguelmg/BFDA-7F87/dataset/regression/dataset_lbl_position_regression.npy\"\n",
    "path_input_lbl_orn = \"/media/miguelmg/BFDA-7F87/dataset/regression/dataset_lbl_orn_regression.npy\"\n",
    "dataset_vol = np.load(path_input_vol)\n",
    "dataset_lbl_pos = np.load(path_input_lbl_pos)\n",
    "dataset_lbl_orn = np.load(path_input_lbl_orn)"
   ]
  },
  {
   "cell_type": "markdown",
   "metadata": {},
   "source": [
    "### Size of data and labels "
   ]
  },
  {
   "cell_type": "code",
   "execution_count": 3,
   "metadata": {},
   "outputs": [
    {
     "name": "stdout",
     "output_type": "stream",
     "text": [
      "Total of volume data: \n",
      " (15166, 32768)\n",
      "Labels of position: \n",
      " (15166, 3)\n",
      "Lables of orientation: \n",
      " (15166, 3)\n"
     ]
    }
   ],
   "source": [
    "print(\"Total of volume data: \\n\",dataset_vol.shape)\n",
    "print(\"Labels of position: \\n\",dataset_lbl_pos.shape)\n",
    "print(\"Lables of orientation: \\n\", dataset_lbl_orn.shape)"
   ]
  },
  {
   "cell_type": "code",
   "execution_count": 4,
   "metadata": {},
   "outputs": [
    {
     "name": "stdout",
     "output_type": "stream",
     "text": [
      "The labels: \n",
      " [ 0.241617  -0.317545   0.0280363]  are the parameters of the position (x,y,z) in meters and \n",
      " [  3.05277  37.16     95.0456 ] are the oritentation parameters (yaw, pitch, roll) in degrees,\n",
      " corresponding to the volume  [ 0.4       0.4       0.4      ...,  0.307692  0.307692  0.307692]\n"
     ]
    }
   ],
   "source": [
    "print(\"The labels: \\n\", dataset_lbl_pos[1], \" are the parameters of the position (x,y,z) in meters and \\n\" ,  \n",
    "      dataset_lbl_orn[1], \"are the oritentation parameters (yaw, pitch, roll) in degrees,\\n\",\n",
    "      \"corresponding to the volume \", dataset_vol[1])"
   ]
  },
  {
   "cell_type": "code",
   "execution_count": 5,
   "metadata": {},
   "outputs": [
    {
     "name": "stdout",
     "output_type": "stream",
     "text": [
      "Each flattened row in dataset_vol has  (32768,) elemets correponding to a volume of 32x32x32\n"
     ]
    }
   ],
   "source": [
    "print(\"Each flattened row in dataset_vol has \", dataset_vol[0][:].shape , \"elemets correponding to a volume of 32x32x32\")"
   ]
  },
  {
   "cell_type": "markdown",
   "metadata": {},
   "source": [
    "### Visualizing a slice of a volume"
   ]
  },
  {
   "cell_type": "code",
   "execution_count": 6,
   "metadata": {},
   "outputs": [
    {
     "name": "stdout",
     "output_type": "stream",
     "text": [
      "The slice  10  of the volume  0  has the next appearance\n"
     ]
    },
    {
     "data": {
      "image/png": "[encoded data removed]",
      "text/plain": [
       "<matplotlib.figure.Figure at 0x7f53ebb62b38>"
      ]
     },
     "metadata": {},
     "output_type": "display_data"
    }
   ],
   "source": [
    "indice = 0 #data, between cero and 13454\n",
    "slice_ = 10    #slice of the data, between 0 and 31\n",
    "vol_slice = np.reshape(dataset_vol[indice],(32,32,32))\n",
    "vol_slice = vol_slice[:][:][slice_]\n",
    "\n",
    "print(\"The slice \", slice_, \" of the volume \" , indice , \" has the next appearance\")\n",
    "\n",
    "plt.imshow(vol_slice)\n",
    "plt.show()"
   ]
  },
  {
   "cell_type": "markdown",
   "metadata": {},
   "source": [
    "### Splitting dataset (example 80 train - 20 test)"
   ]
  },
  {
   "cell_type": "code",
   "execution_count": 7,
   "metadata": {},
   "outputs": [],
   "source": [
    "training_size = 0.8 #modify this to change 70 - 30 or others\n",
    "vol_training = dataset_vol[0:int(training_size*len(dataset_vol))]\n",
    "vol_test = dataset_vol[int(training_size*len(dataset_vol)):]\n",
    "\n",
    "\n",
    "lbl_pos_training = dataset_lbl_pos[0:int(training_size*len(dataset_lbl_pos))]\n",
    "lbl_orn_training = dataset_lbl_orn[0:int(training_size*len(dataset_lbl_orn))]\n",
    "\n",
    "lbl_pos_test = dataset_lbl_pos[int(training_size*len(dataset_lbl_pos)):]\n",
    "lbl_orn_test = dataset_lbl_orn[int(training_size*len(dataset_lbl_orn)):]"
   ]
  },
  {
   "cell_type": "code",
   "execution_count": 9,
   "metadata": {},
   "outputs": [
    {
     "name": "stdout",
     "output_type": "stream",
     "text": [
      "Size of training volumes: \n",
      " (12132, 32768)\n",
      "Size of test volumes: \n",
      " (3034, 32768)\n",
      "Size of training position label: \n",
      " (12132, 3)\n",
      "Size of test position labels: \n",
      " (3034, 3)\n",
      "Size of training orientation labels: \n",
      " (12132, 3)\n",
      "Size of test orientation labels: \n",
      " (3034, 3)\n"
     ]
    }
   ],
   "source": [
    "print(\"Size of training volumes: \\n\",vol_training.shape)\n",
    "print(\"Size of test volumes: \\n\",vol_test.shape)\n",
    "\n",
    "print(\"Size of training position label: \\n\",lbl_pos_training.shape)\n",
    "print(\"Size of test position labels: \\n\",lbl_pos_test.shape)\n",
    "\n",
    "print(\"Size of training orientation labels: \\n\", lbl_orn_training.shape)\n",
    "print(\"Size of test orientation labels: \\n\", lbl_orn_test.shape)"
   ]
  },
  {
   "cell_type": "code",
   "execution_count": null,
   "metadata": {
    "collapsed": true
   },
   "outputs": [],
   "source": []
  }
 ],
 "metadata": {
  "kernelspec": {
   "display_name": "Python 3",
   "language": "python",
   "name": "python3"
  },
  "language_info": {
   "codemirror_mode": {
    "name": "ipython",
    "version": 3
   },
   "file_extension": ".py",
   "mimetype": "text/x-python",
   "name": "python",
   "nbconvert_exporter": "python",
   "pygments_lexer": "ipython3",
   "version": "3.6.3"
  }
 },
 "nbformat": 4,
 "nbformat_minor": 2
}
