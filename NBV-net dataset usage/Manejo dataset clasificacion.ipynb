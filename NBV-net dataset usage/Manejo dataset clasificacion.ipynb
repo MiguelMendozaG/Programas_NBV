{
 "cells": [
  {
   "cell_type": "markdown",
   "metadata": {},
   "source": [
    "# This notebook shows how to use the NBV-Net dataset for classification"
   ]
  },
  {
   "cell_type": "markdown",
   "metadata": {},
   "source": [
    "## Numpy is imported"
   ]
  },
  {
   "cell_type": "code",
   "execution_count": 1,
   "metadata": {
    "collapsed": true
   },
   "outputs": [],
   "source": [
    "import numpy as np\n",
    "import matplotlib.pyplot as plt"
   ]
  },
  {
   "cell_type": "markdown",
   "metadata": {},
   "source": [
    "### Location where data and labels are stored"
   ]
  },
  {
   "cell_type": "code",
   "execution_count": 2,
   "metadata": {},
   "outputs": [],
   "source": [
    "path_input_vol = \"/media/miguelmg/BFDA-7F87/dataset/classification/dataset_vol_classification.npy\"\n",
    "path_input_lbl = \"/media/miguelmg/BFDA-7F87/dataset/classification/dataset_lbl_classification.npy.\"\n",
    "dataset_vol = np.load(path_input_vol)\n",
    "dataset_lbl = np.load(path_input_lbl)"
   ]
  },
  {
   "cell_type": "markdown",
   "metadata": {},
   "source": [
    "### Size of data and labels "
   ]
  },
  {
   "cell_type": "code",
   "execution_count": 3,
   "metadata": {},
   "outputs": [
    {
     "name": "stdout",
     "output_type": "stream",
     "text": [
      "Total of volume data: \n",
      " (13455, 32768)\n",
      "Total of labels: \n",
      " (13455, 1)\n"
     ]
    }
   ],
   "source": [
    "print(\"Total of volume data: \\n\",dataset_vol.shape)\n",
    "print(\"Total of labels: \\n\",dataset_lbl.shape)"
   ]
  },
  {
   "cell_type": "code",
   "execution_count": 4,
   "metadata": {},
   "outputs": [
    {
     "name": "stdout",
     "output_type": "stream",
     "text": [
      "The label [4] corresponds to the volume  [ 0.5       0.5       0.4      ...,  0.307692  0.307692  0.307692]\n"
     ]
    }
   ],
   "source": [
    "print(\"The label\", dataset_lbl[1], \"corresponds to the volume \", dataset_vol[1])"
   ]
  },
  {
   "cell_type": "code",
   "execution_count": 5,
   "metadata": {},
   "outputs": [
    {
     "name": "stdout",
     "output_type": "stream",
     "text": [
      "Each flattened row in dataset_vol has  (32768,) elemets correponding to a volume of 32x32x32\n"
     ]
    }
   ],
   "source": [
    "print(\"Each flattened row in dataset_vol has \", dataset_vol[0][:].shape , \"elemets correponding to a volume of 32x32x32\")"
   ]
  },
  {
   "cell_type": "markdown",
   "metadata": {},
   "source": [
    "### Visualizing a slice of a volume"
   ]
  },
  {
   "cell_type": "code",
   "execution_count": 6,
   "metadata": {},
   "outputs": [
    {
     "name": "stdout",
     "output_type": "stream",
     "text": [
      "The slice  10  of the volume  0  has the next appearance\n"
     ]
    },
    {
     "data": {
      "image/png": "[encoded data removed]",
      "text/plain": [
       "<matplotlib.figure.Figure at 0x7f8907cb8b38>"
      ]
     },
     "metadata": {},
     "output_type": "display_data"
    }
   ],
   "source": [
    "indice = 0 #data, between cero and 13454\n",
    "slice_ = 10    #slice of the data, between 0 and 31\n",
    "vol_slice = np.reshape(dataset_vol[indice],(32,32,32))\n",
    "vol_slice = vol_slice[:][:][slice_]\n",
    "\n",
    "print(\"The slice \", slice_, \" of the volume \" , indice , \" has the next appearance\")\n",
    "\n",
    "plt.imshow(vol_slice)\n",
    "plt.show()"
   ]
  },
  {
   "cell_type": "markdown",
   "metadata": {},
   "source": [
    "### One-hot vector"
   ]
  },
  {
   "cell_type": "code",
   "execution_count": 7,
   "metadata": {
    "collapsed": true
   },
   "outputs": [],
   "source": [
    "dataset_lbl = dataset_lbl[:,0]"
   ]
  },
  {
   "cell_type": "code",
   "execution_count": 8,
   "metadata": {},
   "outputs": [
    {
     "name": "stdout",
     "output_type": "stream",
     "text": [
      "Label[0]:  9 , has the one-hot encoding representation:  [ 0.  0.  0.  0.  0.  0.  0.  0.  0.  1.  0.  0.  0.  0.]\n"
     ]
    }
   ],
   "source": [
    "one_hot_encoding = np.zeros((len(dataset_lbl),14))\n",
    "one_hot_encoding[np.arange(len(dataset_lbl)), dataset_lbl] = 1\n",
    "print(\"Label[0]: \", dataset_lbl[0], \", has the one-hot encoding representation: \", one_hot_encoding[0])"
   ]
  },
  {
   "cell_type": "markdown",
   "metadata": {},
   "source": [
    "### Splitting dataset (example 80 train - 20 test)"
   ]
  },
  {
   "cell_type": "code",
   "execution_count": 9,
   "metadata": {},
   "outputs": [
    {
     "name": "stdout",
     "output_type": "stream",
     "text": [
      "Size of training volumes: \n",
      " (10764, 32768)\n",
      "Size of test volumes: \n",
      " (2691, 32768)\n",
      "Size of training labels: \n",
      " (10764, 14)\n",
      "Size of test labels size: \n",
      " (2691, 14)\n"
     ]
    }
   ],
   "source": [
    "training_size = 0.8 #modify this to change 70 - 30 or others\n",
    "vol_training = dataset_vol[0:int(training_size*len(dataset_vol))]\n",
    "vol_test = dataset_vol[int(training_size*len(dataset_vol)):]\n",
    "\n",
    "\n",
    "lbl_training = one_hot_encoding[0:int(training_size*len(one_hot_encoding))]\n",
    "lbl_test = one_hot_encoding[int(training_size*len(one_hot_encoding)):]\n",
    "\n",
    "print(\"Size of training volumes: \\n\",vol_training.shape)\n",
    "print(\"Size of test volumes: \\n\",vol_test.shape)\n",
    "\n",
    "print(\"Size of training labels: \\n\",lbl_training.shape)\n",
    "print(\"Size of test labels size: \\n\",lbl_test.shape)"
   ]
  },
  {
   "cell_type": "code",
   "execution_count": null,
   "metadata": {
    "collapsed": true
   },
   "outputs": [],
   "source": []
  }
 ],
 "metadata": {
  "kernelspec": {
   "display_name": "Python 3",
   "language": "python",
   "name": "python3"
  },
  "language_info": {
   "codemirror_mode": {
    "name": "ipython",
    "version": 3
   },
   "file_extension": ".py",
   "mimetype": "text/x-python",
   "name": "python",
   "nbconvert_exporter": "python",
   "pygments_lexer": "ipython3",
   "version": "3.6.3"
  }
 },
 "nbformat": 4,
 "nbformat_minor": 2
}
