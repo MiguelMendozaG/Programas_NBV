{
 "cells": [
  {
   "cell_type": "code",
   "execution_count": 12,
   "metadata": {},
   "outputs": [],
   "source": [
    "import numpy as np\n",
    "import glob\n",
    "from scipy.spatial import distance\n",
    "import re"
   ]
  },
  {
   "cell_type": "code",
   "execution_count": 62,
   "metadata": {},
   "outputs": [],
   "source": [
    "folder = sorted(glob.glob('/home/miguelmg/Documents/CIDETEC/semestre 2/vision 3d/proyecto/6d pose/hinterstoisser/nubes/modelo6/position/pose/*.dat'))\n",
    "output_folder = '/home/miguelmg/Documents/CIDETEC/semestre 2/vision 3d/proyecto/6d pose/hinterstoisser/nubes/dataset/test_DNN/equiv_class2pose.txt'\n",
    "\n",
    "\n",
    "reference_points = np.genfromtxt('/home/miguelmg/Documents/CIDETEC/semestre 2/vision 3d/proyecto/points_in_sphere.txt')\n",
    "x = reference_points[:,0]\n",
    "y = reference_points[:,1]\n",
    "z = reference_points[:,2]\n",
    "\n"
   ]
  },
  {
   "cell_type": "code",
   "execution_count": 63,
   "metadata": {},
   "outputs": [
    {
     "name": "stdout",
     "output_type": "stream",
     "text": [
      "[ 4.95583056e-02 -1.22514870e-01  3.77536860e-01  8.50000000e+01]\n"
     ]
    }
   ],
   "source": [
    "x_coor = []\n",
    "y_coor = []\n",
    "z_coor = []\n",
    "n_coor = []\n",
    "for file in folder:\n",
    "    #print(file)\n",
    "    number = re.search('igin_(.+).dat', file)\n",
    "    coords = np.genfromtxt(file)\n",
    "    x_coor.append(coords[0])\n",
    "    y_coor.append(coords[1])\n",
    "    z_coor.append(coords[2])\n",
    "    n_coor.append(int(number.group(1)))\n",
    "class_ = []\n",
    "pose = []\n",
    "\n",
    "for i,_ in enumerate(reference_points):\n",
    "    min_distance = 10\n",
    "    indice = 0\n",
    "    for n, x, y, z in zip(n_coor, x_coor, y_coor, z_coor):\n",
    "        distance_ = distance.euclidean([x,y,z],reference_points[i])\n",
    "        if (min_distance > distance_ ):\n",
    "            min_distance = distance_\n",
    "            best_coord = x,y,z,n\n",
    "    pose.append(best_coord)\n",
    "    \n",
    "pose = np.array(pose)        \n",
    "np.savetxt(output_folder,pose, fmt='%f')\n",
    "print((pose[0]))\n",
    "\n",
    "\n"
   ]
  },
  {
   "cell_type": "code",
   "execution_count": null,
   "metadata": {},
   "outputs": [],
   "source": []
  }
 ],
 "metadata": {
  "kernelspec": {
   "display_name": "Python 3",
   "language": "python",
   "name": "python3"
  },
  "language_info": {
   "codemirror_mode": {
    "name": "ipython",
    "version": 3
   },
   "file_extension": ".py",
   "mimetype": "text/x-python",
   "name": "python",
   "nbconvert_exporter": "python",
   "pygments_lexer": "ipython3",
   "version": "3.5.4"
  }
 },
 "nbformat": 4,
 "nbformat_minor": 2
}
