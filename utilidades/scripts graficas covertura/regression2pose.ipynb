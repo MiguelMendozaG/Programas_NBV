{
 "cells": [
  {
   "cell_type": "code",
   "execution_count": 2,
   "metadata": {},
   "outputs": [],
   "source": [
    "import numpy as np\n",
    "import glob\n",
    "from scipy.spatial import distance\n",
    "import re"
   ]
  },
  {
   "cell_type": "code",
   "execution_count": 27,
   "metadata": {},
   "outputs": [
    {
     "name": "stdout",
     "output_type": "stream",
     "text": [
      "[-0.12849872  0.11118321  0.36211376] 105\n"
     ]
    }
   ],
   "source": [
    "points = [-0.128, 0.111, 0.36]\n",
    "best_distance = []\n",
    "min_distance = 1000\n",
    "pos_number = 0\n",
    "pose_dir = sorted(glob.glob('/home/miguelmg/Documents/CIDETEC/semestre 2/vision 3d/proyecto/6d pose/hinterstoisser/nubes/modelo7/position/pose/*.dat'))\n",
    "for file in pose_dir:\n",
    "    pose = np.genfromtxt(file)\n",
    "    number = re.search('_origin_(.+?).dat', file)\n",
    "    distance_ = distance.euclidean(pose,points)\n",
    "    if (distance_ < min_distance ):\n",
    "        min_distance = distance_\n",
    "        best_distance = pose\n",
    "        pos_number = int(number.group(1))\n",
    "        \n",
    "print(best_distance, pos_number)\n"
   ]
  },
  {
   "cell_type": "code",
   "execution_count": null,
   "metadata": {},
   "outputs": [],
   "source": []
  }
 ],
 "metadata": {
  "kernelspec": {
   "display_name": "Python 3",
   "language": "python",
   "name": "python3"
  },
  "language_info": {
   "codemirror_mode": {
    "name": "ipython",
    "version": 3
   },
   "file_extension": ".py",
   "mimetype": "text/x-python",
   "name": "python",
   "nbconvert_exporter": "python",
   "pygments_lexer": "ipython3",
   "version": "3.5.4"
  }
 },
 "nbformat": 4,
 "nbformat_minor": 2
}
