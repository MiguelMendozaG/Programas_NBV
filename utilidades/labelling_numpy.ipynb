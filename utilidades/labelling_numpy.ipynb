{
 "cells": [
  {
   "cell_type": "code",
   "execution_count": 1,
   "metadata": {},
   "outputs": [],
   "source": [
    "from random import shuffle\n",
    "import glob\n",
    "import cv2\n",
    "import matplotlib.pyplot as plt\n",
    "import re\n",
    "import numpy as np\n",
    "%matplotlib inline"
   ]
  },
  {
   "cell_type": "code",
   "execution_count": 2,
   "metadata": {},
   "outputs": [],
   "source": [
    "shuffle_data = True  # shuffle the addresses before saving\n",
    "numpy_path = '/home/miguelmg/Documents/CIDETEC/semestre 2/vision 3d/proyecto/6d pose/hinterstoisser/nubes/dataset/11_ref_100.npy'  # address to where you want to save the numpy file\n",
    "dataset_train_path = '/home/miguelmg/Documents/CIDETEC/semestre 2/vision 3d/proyecto/6d pose/hinterstoisser/nubes/dataset/11_ref/100/*.txt'"
   ]
  },
  {
   "cell_type": "code",
   "execution_count": 54,
   "metadata": {
    "scrolled": true
   },
   "outputs": [
    {
     "name": "stdout",
     "output_type": "stream",
     "text": [
      "Loading image:  0\n",
      "6 6\n"
     ]
    }
   ],
   "source": [
    "addrs = glob.glob(dataset_train_path)\n",
    "labels = []\n",
    "volumes = []\n",
    "#extraer el primer numero del nombre del archivo, para guardar en un arreglo\n",
    "i = 0\n",
    "for file in addrs:\n",
    "    m = re.search('11_ref/100/(.+?)_', file)\n",
    "    #print (m.group(1))\n",
    "    #print(file)\n",
    "    labels.append(int(m.group(1)))\n",
    "    array = np.loadtxt( file, dtype=float)\n",
    "    volumes.append(array)\n",
    "    if i % 100 == 0:\n",
    "        print(\"Loading image: \", i)\n",
    "    i = i + 1\n",
    "    \n",
    "print(len(labels), len(volumes))"
   ]
  },
  {
   "cell_type": "code",
   "execution_count": 49,
   "metadata": {},
   "outputs": [
    {
     "name": "stdout",
     "output_type": "stream",
     "text": [
      "8 8\n"
     ]
    }
   ],
   "source": [
    "c = list(zip(volumes, labels))\n",
    "shuffle(c)\n",
    "volumes, labels = zip(*c)\n",
    "print(len(volumes), len(labels))"
   ]
  },
  {
   "cell_type": "code",
   "execution_count": 55,
   "metadata": {},
   "outputs": [
    {
     "name": "stdout",
     "output_type": "stream",
     "text": [
      "[0.228571 0.228571 0.228571 ... 0.228571 0.228571 0.228571]\n"
     ]
    }
   ],
   "source": [
    "print((array))\n",
    "np.save(\"11_ref_100_vol\",volumes)"
   ]
  },
  {
   "cell_type": "code",
   "execution_count": 56,
   "metadata": {},
   "outputs": [],
   "source": [
    "np.save(\"11_ref_100_lbl\", labels)"
   ]
  },
  {
   "cell_type": "markdown",
   "metadata": {},
   "source": [
    "### Pruebas para cargar dataset"
   ]
  },
  {
   "cell_type": "code",
   "execution_count": 57,
   "metadata": {},
   "outputs": [
    {
     "name": "stdout",
     "output_type": "stream",
     "text": [
      "(6, 32768)\n"
     ]
    }
   ],
   "source": [
    "dataset_load_path = \"/home/miguelmg/Documents/CIDETEC/semestre 2/vision 3d/proyecto/11_ref_100_vol.npy\"\n",
    "dataset_load_lbl_path = \"/home/miguelmg/Documents/CIDETEC/semestre 2/vision 3d/proyecto/11_ref_100_lbl.npy\"\n",
    "dataset = np.load(dataset_load_path)\n",
    "print(dataset.shape)"
   ]
  },
  {
   "cell_type": "code",
   "execution_count": 58,
   "metadata": {},
   "outputs": [
    {
     "name": "stdout",
     "output_type": "stream",
     "text": [
      "(6,)\n",
      "[ 0  8 11  9  5  1]\n"
     ]
    }
   ],
   "source": [
    "labels_ = np.load(dataset_load_lbl_path)\n",
    "print((labels_.shape))\n",
    "labels_ = np.array(labels_)\n",
    "print(labels_)"
   ]
  },
  {
   "cell_type": "code",
   "execution_count": 59,
   "metadata": {},
   "outputs": [
    {
     "name": "stdout",
     "output_type": "stream",
     "text": [
      "[[1. 0. 0. 0. 0. 0. 0. 0. 0. 0. 0. 0. 0. 0.]\n",
      " [0. 0. 0. 0. 0. 0. 0. 0. 1. 0. 0. 0. 0. 0.]\n",
      " [0. 0. 0. 0. 0. 0. 0. 0. 0. 0. 0. 1. 0. 0.]\n",
      " [0. 0. 0. 0. 0. 0. 0. 0. 0. 1. 0. 0. 0. 0.]\n",
      " [0. 0. 0. 0. 0. 1. 0. 0. 0. 0. 0. 0. 0. 0.]\n",
      " [0. 1. 0. 0. 0. 0. 0. 0. 0. 0. 0. 0. 0. 0.]]\n"
     ]
    }
   ],
   "source": [
    "one_hot = np.zeros((len(labels_),14))\n",
    "one_hot[np.arange(len(labels_)),labels_]=1\n",
    "print(one_hot)"
   ]
  },
  {
   "cell_type": "code",
   "execution_count": 11,
   "metadata": {},
   "outputs": [
    {
     "name": "stdout",
     "output_type": "stream",
     "text": [
      "[1 2 3 5] [6 7 8 9]\n",
      "(3, 2, 1, 5) (8, 7, 6, 9)\n"
     ]
    }
   ],
   "source": [
    "a = np.array([1,2,3,5])\n",
    "b = np.array([6,7,8,9])\n",
    "print(a,b)\n",
    "c = list(zip(a,b))\n",
    "shuffle(c)\n",
    "a,b = zip(*c)\n",
    "print(a,b)"
   ]
  },
  {
   "cell_type": "code",
   "execution_count": null,
   "metadata": {},
   "outputs": [],
   "source": []
  }
 ],
 "metadata": {
  "kernelspec": {
   "display_name": "Python 3",
   "language": "python",
   "name": "python3"
  },
  "language_info": {
   "codemirror_mode": {
    "name": "ipython",
    "version": 3
   },
   "file_extension": ".py",
   "mimetype": "text/x-python",
   "name": "python",
   "nbconvert_exporter": "python",
   "pygments_lexer": "ipython3",
   "version": "3.5.4"
  }
 },
 "nbformat": 4,
 "nbformat_minor": 2
}
