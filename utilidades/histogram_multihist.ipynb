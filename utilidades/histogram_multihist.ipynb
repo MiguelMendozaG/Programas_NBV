{
 "cells": [
  {
   "cell_type": "code",
   "execution_count": 54,
   "metadata": {},
   "outputs": [],
   "source": [
    "%matplotlib inline"
   ]
  },
  {
   "cell_type": "markdown",
   "metadata": {},
   "source": [
    "\n",
    "=============================================================\n",
    "Demo of the histogram (hist) function with multiple data sets\n",
    "=============================================================\n",
    "\n",
    "Plot histogram with multiple sample sets and demonstrate:\n",
    "\n",
    "    * Use of legend with multiple sample sets\n",
    "    * Stacked bars\n",
    "    * Step curve with no fill\n",
    "    * Data sets of different sample sizes\n",
    "\n",
    "Selecting different bin counts and sizes can significantly affect the\n",
    "shape of a histogram. The Astropy docs have a great section on how to\n",
    "select these parameters:\n",
    "http://docs.astropy.org/en/stable/visualization/histogram.html\n",
    "\n"
   ]
  },
  {
   "cell_type": "code",
   "execution_count": 80,
   "metadata": {
    "scrolled": true
   },
   "outputs": [
    {
     "data": {
      "image/png": "[encoded data removed]",
      "text/plain": [
       "<matplotlib.figure.Figure at 0x7f2ec078d6a0>"
      ]
     },
     "metadata": {},
     "output_type": "display_data"
    },
    {
     "data": {
      "text/plain": [
       "<matplotlib.figure.Figure at 0x7f2ec0098710>"
      ]
     },
     "metadata": {},
     "output_type": "display_data"
    }
   ],
   "source": [
    "import numpy as np\n",
    "import matplotlib.pyplot as plt\n",
    "\n",
    "\n",
    "N = 10\n",
    "fig1 = (0,0,258,5,0,0,0,0,0,0.)\n",
    "fig2 = (0,0,1,3,164,45,16,8,4,22.)\n",
    "fig3 = (0.  , 0.  , 0.  , 1.  , 0.  , 6,  70,  36,  66,  84)\n",
    "fig4 = (0.  ,  0.  ,  1.,  141. ,  35.  , 56.  , 25.  ,  5.  ,  0. ,   0)\n",
    "fig5 = (0.  ,  0.   , 0. , 176.  , 78. ,   9.  ,  0.   , 0.  ,  0.  ,  0)\n",
    "fig6 = (0.  ,  0. , 122. , 141. ,   0.  ,  0.  ,  0. ,   0.  ,  0.  ,  0)\n",
    "fig7 = (0.  ,  0. , 124.,  138.  ,  1.  ,  0.  ,  0. ,   0.  ,  0. ,   0)\n",
    "fig8 = (0.  ,  0.  ,  2. , 159.,   63. ,  17. ,  12.  ,  1.   , 9.   , 0)\n",
    "fig9 = (0.   , 0.  ,  0.  ,  0.  , 37. , 165. ,  59.  ,  2.  ,  0.  ,  0)\n",
    "fig10 = (0.  ,  0.   , 0.  , 82.,  181. ,  0.    ,0.   , 0.  ,  0. ,   0)\n",
    "\n",
    "ind = np.arange(N)    # the x locations for the groups\n",
    "width = 0.55     # the width of the bars: can also be len(x) sequence\n",
    "\n",
    "#p1 = plt.bar(ind, fig1, width)\n",
    "#p2 = plt.bar(ind, fig2, width)\n",
    "p3 = plt.bar(ind, fig3, width)\n",
    "#p4 = plt.bar(ind, fig4, width)\n",
    "#p5 = plt.bar(ind, fig5, width)\n",
    "#p6 = plt.bar(ind, fig6, width)\n",
    "#p7 = plt.bar(ind, fig7, width)\n",
    "#p8 = plt.bar(ind, fig8, width)\n",
    "#p9 = plt.bar(ind, fig9, width)\n",
    "#p10 = plt.bar(ind, fig10, width, bottom=menMeans)\n",
    "\n",
    "plt.ylabel('Qty')\n",
    "plt.xlabel('Iteration')\n",
    "plt.title('Iterations by figure')\n",
    "#plt.ylim(0,1000)\n",
    "plt.xticks(ind, ('1', '2', '3', '4', '5', '6', '7', '8', '9', '10'))\n",
    "#plt.yticks(np.arange(0, 300))\n",
    "plt.legend((p1[0], p2[0], p3[0], p4[0], p5[0], p6[0], p7[0], p8[0], p9[0], p10[0]), ('Fig 1', 'Fig 2', 'Fig 3', 'Fig 4', 'Fig 5', 'Fig 6', 'Fig 7', 'Fig 8', 'Fig 9', 'Fig 10'))\n",
    "plt.figure(figsize=(10,1))\n",
    "plt.show()"
   ]
  },
  {
   "cell_type": "code",
   "execution_count": null,
   "metadata": {},
   "outputs": [],
   "source": []
  }
 ],
 "metadata": {
  "kernelspec": {
   "display_name": "Python 3",
   "language": "python",
   "name": "python3"
  },
  "language_info": {
   "codemirror_mode": {
    "name": "ipython",
    "version": 3
   },
   "file_extension": ".py",
   "mimetype": "text/x-python",
   "name": "python",
   "nbconvert_exporter": "python",
   "pygments_lexer": "ipython3",
   "version": "3.5.4"
  }
 },
 "nbformat": 4,
 "nbformat_minor": 1
}
